{
 "cells": [
  {
   "cell_type": "code",
   "execution_count": 1,
   "id": "cd1bee41",
   "metadata": {},
   "outputs": [
    {
     "name": "stdout",
     "output_type": "stream",
     "text": [
      "97.53333333333342\n",
      "135.76666666666665\n"
     ]
    }
   ],
   "source": [
    "from beam_package.loads.common_loads import *\n",
    "from beam_package.utils.sign_convention import DIRECTION\n",
    "from beam_package.beam.beam import Beam\n",
    "import json\n",
    "import pandas as pd\n",
    "import numpy as np\n",
    "import matplotlib.pyplot as plt\n",
    "from singularity import *\n",
    "\n",
    "\n",
    "file = './beam_test_data_3.json'\n",
    "# file = './beam_test_data_2.json'\n",
    "b = Beam(json_path=file)\n",
    "# print(b.length)\n",
    "b.evaluate_json()\n",
    "# print(b.load_table)\n",
    "b.calc_reaction()\n",
    "# print(b.load_table)\n",
    "# b.draw()"
   ]
  },
  {
   "cell_type": "code",
   "execution_count": 2,
   "id": "0dcfbc75",
   "metadata": {},
   "outputs": [
    {
     "data": {
      "text/plain": [
       "     Id exponent        load pos0 pos1 span  point_load moment_arm  \\\n",
       "0    P3       -1       -25.3    7    7    0       -25.3         -7   \n",
       "1    M1       -2          38   10   10    0          38          0   \n",
       "2  UDL0        0         -13    3   19   16        -208      -11.0   \n",
       "3   RP4       -1   97.533333    2    2    0   97.533333         -2   \n",
       "4   RP5       -1  135.766667   17   17    0  135.766667        -17   \n",
       "\n",
       "        moment  \n",
       "0        177.1  \n",
       "1           38  \n",
       "2       2288.0  \n",
       "3  -195.066667  \n",
       "4 -2308.033333  "
      ]
     },
     "execution_count": 2,
     "metadata": {},
     "output_type": "execute_result"
    }
   ],
   "source": [
    "b"
   ]
  },
  {
   "cell_type": "code",
   "execution_count": 3,
   "id": "793e3343",
   "metadata": {},
   "outputs": [],
   "source": [
    "df = b.load_table\n",
    "df = df[df['exponent']!=1]\n",
    "\n",
    "def get_data():\n",
    "    distances = []\n",
    "    loads = []\n",
    "    def extract(s:pd.DataFrame, distances:list, loads:list) -> None:\n",
    "        exponent = s['exponent']\n",
    "        if exponent == 0:\n",
    "            distances.append((s['pos0'], exponent))\n",
    "            loads.append(s['load'])\n",
    "            distances.append((s['pos1'], exponent))\n",
    "            loads.append(-s['load'])\n",
    "        elif exponent == 1:\n",
    "            pass\n",
    "        else:\n",
    "            distances.append((s['pos0'], exponent))\n",
    "            loads.append(s['load'])\n",
    "        return\n",
    "    \n",
    "    for i, s in df.iterrows():\n",
    "        extract(s, distances, loads)\n",
    "    loads = np.array(loads).reshape(len(loads), 1)\n",
    "    return distances, loads\n"
   ]
  },
  {
   "cell_type": "code",
   "execution_count": 4,
   "id": "67483f3f",
   "metadata": {},
   "outputs": [
    {
     "data": {
      "image/png": "[encoded data removed]",
      "text/plain": [
       "<Figure size 432x288 with 2 Axes>"
      ]
     },
     "metadata": {
      "needs_background": "light"
     },
     "output_type": "display_data"
    }
   ],
   "source": [
    "import numpy as np\n",
    "import matplotlib.pyplot as plt\n",
    "%matplotlib inline\n",
    "\n",
    "from singularity import show_plot\n",
    "\n",
    "distances, loads = get_data()\n",
    "length = b.length\n",
    "x = b.x\n",
    "show_plot(x, length, distances, loads)"
   ]
  },
  {
   "cell_type": "code",
   "execution_count": null,
   "id": "0791132c",
   "metadata": {},
   "outputs": [],
   "source": []
  }
 ],
 "metadata": {
  "kernelspec": {
   "display_name": "Python 3 (venvComputing)",
   "language": "python",
   "name": "python3-computing"
  },
  "language_info": {
   "codemirror_mode": {
    "name": "ipython",
    "version": 3
   },
   "file_extension": ".py",
   "mimetype": "text/x-python",
   "name": "python",
   "nbconvert_exporter": "python",
   "pygments_lexer": "ipython3",
   "version": "3.8.10"
  }
 },
 "nbformat": 4,
 "nbformat_minor": 5
}
